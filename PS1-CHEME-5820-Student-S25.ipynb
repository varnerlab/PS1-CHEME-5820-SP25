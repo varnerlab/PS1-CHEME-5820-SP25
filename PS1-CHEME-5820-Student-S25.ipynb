{
 "cells": [
  {
   "cell_type": "markdown",
   "id": "a5451999-c880-4c5c-909c-1f763676eee7",
   "metadata": {},
   "source": [
    "# Problem Set 1 (PS1): Overlapping K-means example\n",
    "The lecture introduced the [K-means clustering technique](https://en.wikipedia.org/wiki/K-means_clustering) as part of our unsupervised learning discussion. The [K-means approach](https://en.wikipedia.org/wiki/K-means_clustering) is straightforward and, in some ways, intuitive, but it has several limitations, such as the necessity to specify the number of clusters in advance. Additionally, there are more significant concerns, such as the inability to cluster overlapping datasets (or non-convex datasets). Let's explore the overlapping data issue!\n",
    "\n",
    "* __Problem__: There was an example cited [in the MAT 180 Big Data course at UC Davis](https://www.math.ucdavis.edu/~strohmer/courses/180BigData/180coursematerial.html) that was not explored in detail that we'll use (with some modifications) as the basis for our study. Consider two circular data clouds, each of radius 1, and their centers are a distance $d$ apart. As long as $d > 2.08$, [K-means clustering](https://en.wikipedia.org/wiki/K-means_clustering) yields the correct answer. But if $d\\leq{2.08}$, [K-means clustering](https://en.wikipedia.org/wiki/K-means_clustering) may fail. Moreover, this is the failure of [K-means](https://en.wikipedia.org/wiki/K-means_clustering) and not of Lloyd's algorithm, i.e., Lloyd's algorithm will converge, but to an incorrect answer.\n",
    "\n",
    "To explore this problem, work through each notebook section, fill in any missing codes, and answer any discussion questions. The testing section of the notebook displays a list of tests to help you check the correctness (and completeness) of the problem set."
   ]
  },
  {
   "cell_type": "markdown",
   "id": "d2763ee4-d505-4b77-8065-311f00b14b85",
   "metadata": {},
   "source": [
    "## Setup, Prerequisites and Data\n",
    "In this section, we set up the computational environment by including the `Include.jl` file and then load any needed resources, e.g., a sample dataset, to cluster, and we end by setting up any required constants. The `Include.jl` file loads external packages, various functions that we will use in the exercise, and custom types to model the components of our problem."
   ]
  },
  {
   "cell_type": "code",
   "execution_count": 3,
   "id": "e2430897-9ae3-42f5-b795-e9bed7c9b9e8",
   "metadata": {},
   "outputs": [],
   "source": [
    "include(\"Include.jl\"); # nothing to do here, move along ..."
   ]
  },
  {
   "cell_type": "markdown",
   "id": "487ecef2-fcd0-4338-b20b-4a0243ae3976",
   "metadata": {},
   "source": [
    "Next, let's set some constants. See the comment next to the constant for a description of what it is, permissible values, etc."
   ]
  },
  {
   "cell_type": "code",
   "execution_count": 5,
   "id": "84636cd4-1984-49d2-9983-4dab0cdc9768",
   "metadata": {},
   "outputs": [],
   "source": [
    "number_label_one = 500; # number of points in cloud 1 (must be ≥ 2)\n",
    "number_label_two = 500; # number of points in cloud 2 (must be ≥ 2)\n",
    "total_number_of_points = (number_label_one + number_label_two);\n",
    "number_of_features = 3; # features: (x,y,l), where l is a faux label; see below.\n",
    "c̄₁ = (1.0, 1.0); # center for cluster 1: fixed\n",
    "c̄₂ = (4.0, 1.0); # center for cluster 2: variable, we'll change this in our study\n",
    "maxiter = 10000; # maximum iterations of our K-means implementation\n",
    "K = 2; # number of clusters. We'll change this in our study (K > 1)\n",
    "ϵ = 1e-6; # tolerance for termination. We can set this to whatever we want"
   ]
  },
  {
   "cell_type": "markdown",
   "id": "780fff6a-eb15-4157-9b40-013c19759477",
   "metadata": {},
   "source": [
    "Check if the distances between the centers are greater than (or less than) the critical threshold. We'll return the distance and a label for this case we are exploring. Distances are calculated [using methods exported by the `Distances.jl` package](https://github.com/JuliaStats/Distances.jl). In this case (and throughout) we [use the Euclidean distance](https://en.wikipedia.org/wiki/Euclidean_distance)."
   ]
  },
  {
   "cell_type": "code",
   "execution_count": 7,
   "id": "f3100a62-37db-48fd-b491-7d5dd850a478",
   "metadata": {
    "jupyter": {
     "source_hidden": true
    }
   },
   "outputs": [],
   "source": [
    "distance, case_label = let\n",
    "    \n",
    "    d = Euclidean(); # Euclidean distance measure from the Distances.jl package\n",
    "    distance = d(c̄₁,c̄₂); # compute the distance\n",
    "\n",
    "    # check the case: {distinct | overlap}\n",
    "    case_label = \"distinct\"\n",
    "    if (distance ≤ 2.08)\n",
    "        case_label = \"overlapping\"\n",
    "    end\n",
    "\n",
    "    # return the data to the calling scope\n",
    "    distance, case_label    \n",
    "end;"
   ]
  },
  {
   "cell_type": "code",
   "execution_count": 8,
   "id": "55ad83dc-eeba-4f77-970c-4fff09f0e3b2",
   "metadata": {},
   "outputs": [
    {
     "name": "stdout",
     "output_type": "stream",
     "text": [
      "Distance: 3.0 with case_label: distinct\n"
     ]
    }
   ],
   "source": [
    "println(\"Distance: $(distance) with case_label: $(case_label)\")"
   ]
  },
  {
   "cell_type": "markdown",
   "id": "42464041-a1a9-4bf2-bc79-f1f33f735143",
   "metadata": {},
   "source": [
    "Finally, let's set up the color dictionary to visualize the clustering results. The keys of the `my_color_dictionary::Dict{Int64, RGB}` dictionary are the cluster indexes, while the values are the colors mapped to that index. We have initially specified colors for up to three clusters. If you want more clusters, you'll need to specify additional colors. See [the `Colors.jl` package](https://github.com/JuliaGraphics/Colors.jl?tab=readme-ov-file) for details on how to specify (and model) colors."
   ]
  },
  {
   "cell_type": "code",
   "execution_count": 10,
   "id": "8e74203a-6a94-4182-a6fe-47124ee08bac",
   "metadata": {},
   "outputs": [],
   "source": [
    "my_color_dictionary = Dict{Int64,RGB}();\n",
    "my_color_dictionary[1] = colorant\"#03045e\";\n",
    "my_color_dictionary[2] = colorant\"#e36414\";\n",
    "my_color_dictionary[3] = colorant\"#00b4d8\";"
   ]
  },
  {
   "cell_type": "markdown",
   "id": "3edf69b1-8e4b-4339-b3b9-12181d7224e7",
   "metadata": {},
   "source": [
    "## Task 1: Generation of a synthetic dataset $\\mathcal{D}$.\n",
    "In this task, we'll generate a test synthetic dataset $\\mathcal{D} = \\left\\{\\mathbf{x}_{1},\\mathbf{x}_{2},\\dots,\\mathbf{x}_{n}\\right\\}$ in which the data points are random $(x,y)$ values which are members of two circular data clouds. The first cloud will have center $\\bar{c}_{1} = (1,1)$, while the second cloud center $\\bar{c}_{2}$ will be variable (both center values are specified in the setup section of the notebook). Each cloud has a radius equal to `1`. In addition to the $(x,y)$ values, when generating each element of the data cloud, we give it a `faux` label $l$ of either $l\\in\\{1,2\\}$. The label $l$ is for visualization and quality purposes (we'll exclude it in the clustering operations).\n",
    "* __Strategy__: First, generate the $l = 1$ and $l=2$ datasets using [the `generatedatacloud(...)` method](src/Data.jl). Then, randomly mix up the order of the dataset so that the $l = 1$ and $l = 2$ points are not in a particular order. Store the randomized dataset (with the `faux` label) in the $\\hat{\\mathcal{D}}$ `::Array{Float64,2}` variable. Each row of $\\hat{\\mathcal{D}}$ is a data point, while each column corresponds to a feature, i.e., the $x$, $y$ or $l$ value. _Fill in the missing code to get the data generation block working_.\n",
    "\n",
    "Let's consider the dataset $\\hat{\\mathcal{D}}$ as the ground truth, i.e., data points with `faux` label $l=1$ belong together, and likewise $l=2$ datapoints should be clustered together."
   ]
  },
  {
   "cell_type": "code",
   "execution_count": 12,
   "id": "99da4261-eaeb-4b57-9969-75746ce5ad23",
   "metadata": {},
   "outputs": [
    {
     "ename": "LoadError",
     "evalue": "DimensionMismatch: mismatch in dimension 2 (expected 3 got 1)",
     "output_type": "error",
     "traceback": [
      "DimensionMismatch: mismatch in dimension 2 (expected 3 got 1)",
      "",
      "Stacktrace:",
      "  [1] _cs",
      "    @ ./abstractarray.jl:1809 [inlined]",
      "  [2] _cshp",
      "    @ ./abstractarray.jl:1795 [inlined]",
      "  [3] _cshp",
      "    @ ./abstractarray.jl:1806 [inlined]",
      "  [4] _cat_size_shape",
      "    @ ./abstractarray.jl:1785 [inlined]",
      "  [5] cat_size_shape",
      "    @ ./abstractarray.jl:1783 [inlined]",
      "  [6] _cat_t",
      "    @ ./abstractarray.jl:1824 [inlined]",
      "  [7] _cat(::Val{1}, ::Matrix{Float64}, ::Nothing)",
      "    @ Base ./abstractarray.jl:1820",
      "  [8] cat",
      "    @ ./abstractarray.jl:2084 [inlined]",
      "  [9] vcat(::Matrix{Float64}, ::Nothing)",
      "    @ Base ./abstractarray.jl:1918",
      " [10] top-level scope",
      "    @ ./In[12]:9"
     ]
    }
   ],
   "source": [
    "D̂ = let\n",
    "\n",
    "    # initialize -\n",
    "    D = Array{Float64,2}(undef, total_number_of_points, number_of_features);\n",
    "    s₁ = generatedatacloud(c̄₁, number_of_points = number_label_one, label=1); # generate label 1 data\n",
    "    s₂ = nothing # TODO: Call the generatedatacloud function to generate label 2 data\n",
    "\n",
    "    # mix s₁, s₂ together (randomly)\n",
    "    tmp = vcat(s₁,s₂)\n",
    "    random_perm_index_vector = randperm(total_number_of_points);\n",
    "    for i ∈ eachindex(random_perm_index_vector)\n",
    "        k = random_perm_index_vector[i]; # get the from col -\n",
    "        for j ∈ 1:number_of_features\n",
    "            D[i,j] = tmp[k,j];\n",
    "        end\n",
    "    end\n",
    "    \n",
    "    D\n",
    "end;"
   ]
  },
  {
   "cell_type": "code",
   "execution_count": 13,
   "id": "00ccac2c-fda5-49de-9ef2-0efc5461e443",
   "metadata": {},
   "outputs": [
    {
     "ename": "LoadError",
     "evalue": "UndefVarError: `D̂` not defined in `Main`\nSuggestion: check for spelling errors or missing imports.",
     "output_type": "error",
     "traceback": [
      "UndefVarError: `D̂` not defined in `Main`\nSuggestion: check for spelling errors or missing imports.",
      ""
     ]
    }
   ],
   "source": [
    "D̂ # if notebook working, you should see some data here (with mixed up labels)"
   ]
  },
  {
   "cell_type": "markdown",
   "id": "ed77c6a7-8c6a-4ba4-a99d-33b713183e72",
   "metadata": {},
   "source": [
    "### Visualize the initial data clouds\n",
    "`Unhide` the code block below to see how we plotted the initial synthetic dataset using [the `Plots.jl` package](https://github.com/JuliaPlots/Plots.jl), and mainly the [`scatter(...)` function](https://docs.juliaplots.org/stable/api/#Plots.scatter-Tuple). \n",
    "* __Summary__: Depending upon your choice of the second center tuple $\\bar{c}_{2}$, you should have two clouds of data points that are `distinct` or `overlapping.` We have the black cloud of points for data with the `faux` label $l = 1$, while the gray points indicate the `faux` label $l = 2$. As the distance between the centers decreases, the two clouds will overlap into a `no man's land` region, containing a mixture of both labels. We expect [the K-means approach](https://en.wikipedia.org/wiki/K-means_clustering) will correctly capture distinct data clouds but fail with the overlapping case."
   ]
  },
  {
   "cell_type": "code",
   "execution_count": 15,
   "id": "a925c0f1-2c2a-426f-a33f-874ef5981eba",
   "metadata": {
    "jupyter": {
     "source_hidden": true
    }
   },
   "outputs": [
    {
     "ename": "LoadError",
     "evalue": "UndefVarError: `D̂` not defined in `Main`\nSuggestion: check for spelling errors or missing imports.",
     "output_type": "error",
     "traceback": [
      "UndefVarError: `D̂` not defined in `Main`\nSuggestion: check for spelling errors or missing imports.",
      "",
      "Stacktrace:",
      " [1] top-level scope",
      "   @ ./In[15]:3"
     ]
    }
   ],
   "source": [
    "let\n",
    "\n",
    "    dataset = D̂; # what dataset am I looking at?\n",
    "    horizontal_index = 1;\n",
    "    vertical_index = 2;\n",
    "    p = plot(bg=\"gray95\", background_color_outside=\"white\", framestyle = :box, fg_legend = :transparent); # make an empty plot\n",
    "    \n",
    "    circle_one = fixedcircle(c̄₁);\n",
    "    circle_two = fixedcircle(c̄₂);\n",
    "\n",
    "    for i ∈ 1:total_number_of_points\n",
    "        label = dataset[i,3]; # label\n",
    "        c = :black;\n",
    "        if label == 2\n",
    "            c = :gray60\n",
    "        end\n",
    "        scatter!([dataset[i, horizontal_index]], [dataset[i, vertical_index]], label=\"\", mec=:navy, c=c)\n",
    "    end\n",
    "    \n",
    "    scatter!([c̄₁[1]], [c̄₁[2]], ms=6, mec=:black, c=:white, label=\"\")\n",
    "    scatter!([c̄₂[1]], [c̄₂[2]], ms=6, mec=:gray60, c=:white, label=\"\")\n",
    "    plot!(circle_one[:,1], circle_one[:,2], lw=2, c=:black, ls=:dash, label=\"\")\n",
    "    plot!(circle_two[:,1], circle_two[:,2], lw=2, c=:gray60, ls=:dash, label=\"\") \n",
    "    xlabel!(\"Feature 1 (AU)\", fontsize=18);\n",
    "    ylabel!(\"Feature 2 (AU)\", fontsize=18);\n",
    "    title!(\"Case = $(case_label)\", fontsize=18)\n",
    "end"
   ]
  },
  {
   "cell_type": "code",
   "execution_count": 16,
   "id": "285aadd5-8b53-4900-9090-5b4c5b3eb2f4",
   "metadata": {},
   "outputs": [],
   "source": [
    "do_I_see_raw_data_cloud_figure = false; # update this value if you see the raw data figure {true | false}"
   ]
  },
  {
   "cell_type": "markdown",
   "id": "85a6960d-631d-40b4-8fc9-3ec14d7c8d6c",
   "metadata": {},
   "source": [
    "## Task 2: Cluster the data\n",
    "In this task, we'll cluster the dataset $\\mathcal{D}$ where we exclude the `faux` label, i.e., we consider only the $(x,y)$ data in the dataset. First, we'll build a `model::MyNaiveKMeansClusteringAlgorithm` instance holding information about the problem we are looking to solve; then, we'll cluster the data using [the `cluster(...)` method](src/Cluster.jl).\n",
    "\n",
    "Let's start by constructing the dataset $\\mathcal{D}$ (no hat) from $\\hat{\\mathcal{D}}$ by remove the column corresponding to the `faux` label $l$. We'll save the data in the `D::Array{Float64,2}` variable:"
   ]
  },
  {
   "cell_type": "code",
   "execution_count": 18,
   "id": "0f40dd45-0a8d-46e4-a118-e7bc7d78c692",
   "metadata": {},
   "outputs": [
    {
     "ename": "LoadError",
     "evalue": "UndefVarError: `D̂` not defined in `Main`\nSuggestion: check for spelling errors or missing imports.",
     "output_type": "error",
     "traceback": [
      "UndefVarError: `D̂` not defined in `Main`\nSuggestion: check for spelling errors or missing imports.",
      "",
      "Stacktrace:",
      " [1] top-level scope",
      "   @ In[18]:1"
     ]
    }
   ],
   "source": [
    "D = D̂[:,1:end-1]; # all the rows, cols = {1,2} (no label column)"
   ]
  },
  {
   "cell_type": "markdown",
   "id": "70851eeb-e0c8-426b-a6e4-65779b7c57b2",
   "metadata": {},
   "source": [
    "Next, let's build the model instance. The `model::MyNaiveKMeansClusteringAlgorithm` contains the data that we passed in, as well as two derived fields that we computed in [the `build(...)` method](src/Factory.jl), the centroids and initial assignments: \n",
    "* The `centroids::Dict{Int64, Vector{Float64}}` dictionary holds the centroid values $\\mu_1, \\dots, \\mu_K$ for each cluster. The dictionary's keys are the cluster index, while the values are the `m`-dimensional centroids (means) of the data points in that cluster. We initialize the centroids randomly.\n",
    "* The `assignments::Vector{Int64}` field is an `n`-dimensional vector holding the clustered index that each data point is assigned to. We initialize the assignments randomly.\n",
    "\n",
    "We've updated our implementation to take the dataset $D$ and have reworked the computation of the initial value of the centroids. It is not based on the initial random cluster assignment. _Fill in the missing code to build our clustering model_."
   ]
  },
  {
   "cell_type": "code",
   "execution_count": 20,
   "id": "848bc561-923e-4a9d-b06b-881d003a4f5c",
   "metadata": {},
   "outputs": [],
   "source": [
    "model = nothing; # TODO: call the build method for the MyNaiveKMeansClusteringAlgorithm type"
   ]
  },
  {
   "cell_type": "markdown",
   "id": "72e69391-d3cd-4cae-8d06-b682dc4bf0ea",
   "metadata": {},
   "source": [
    "#### Visualize the initial centroids and assignments\n",
    "`Unhide` the code block below to see how we plotted the initial assignments and centroids. Each data point, i.e., feature vector (shown by the circles), is initially assigned to a random cluster, and the centroids dictionary is initialized based on the initial cluster assignment, where the centroids are shown as `+.`\n",
    "* __Summary__: Depending upon the case, i.e., the value of $\\bar{c}_{2}$, there will be two distinct (but randomly mixed up) clusters or a single (ish) cloud with mixed up values. The initial cluster centroids will be somewhere between the clouds for the `distinct` case and buried inside the cloud for the `overlapping` case. This is where [the K-means method](https://en.wikipedia.org/wiki/K-means_clustering) starts, i.e., its initial belief about how the data should be partitioned."
   ]
  },
  {
   "cell_type": "code",
   "execution_count": 22,
   "id": "a11834c9-8224-4176-b84c-b5f049a7b527",
   "metadata": {
    "jupyter": {
     "source_hidden": true
    }
   },
   "outputs": [
    {
     "ename": "LoadError",
     "evalue": "UndefVarError: `D` not defined in `Main`\nSuggestion: check for spelling errors or missing imports.",
     "output_type": "error",
     "traceback": [
      "UndefVarError: `D` not defined in `Main`\nSuggestion: check for spelling errors or missing imports.",
      "",
      "Stacktrace:",
      " [1] top-level scope",
      "   @ ./In[22]:3"
     ]
    }
   ],
   "source": [
    "let\n",
    "\n",
    "    dataset = D; # what dataset am I looking at?\n",
    "    horizontal_index = 1;\n",
    "    vertical_index = 2;\n",
    "    p = plot(bg=\"gray95\", background_color_outside=\"white\", framestyle = :box, fg_legend = :transparent); # make an empty plot\n",
    "   \n",
    "    assignments = copy(model.assignments);\n",
    "    for i ∈ eachindex(assignments);\n",
    "        a = assignments[i];        \n",
    "        scatter!([dataset[i, horizontal_index]], [dataset[i, vertical_index]], label=\"\", c=my_color_dictionary[a], msc=my_color_dictionary[a]);\n",
    "    end\n",
    "    current();\n",
    "\n",
    "    # plot the centroids -\n",
    "    centroids = copy(model.centroids);\n",
    "    for k ∈ 1:K\n",
    "        c = centroids[k]\n",
    "        scatter!([c[horizontal_index]], [c[vertical_index]], label=\"Centroid cluster $(k)\", msc=my_color_dictionary[k], c=my_color_dictionary[k], \n",
    "            ms=6, markerstrokewidth=2, markershape = :plus)\n",
    "    end\n",
    "    current();\n",
    "\n",
    "    xlabel!(\"Feature 1 (AU)\", fontsize=18);\n",
    "    ylabel!(\"Feature 2 (AU)\", fontsize=18);\n",
    "    title!(\"Case = $(case_label)\", fontsize=18)\n",
    "end"
   ]
  },
  {
   "cell_type": "code",
   "execution_count": 23,
   "id": "86cb32e9-6d19-4e93-aa5c-ae3c061099a7",
   "metadata": {},
   "outputs": [],
   "source": [
    "do_I_see_initial_unclustered_data_figure = false; # update this value if you see the figure with the initial (random) clustered data {true | false}"
   ]
  },
  {
   "cell_type": "markdown",
   "id": "e98d4b82-a2cb-4cb8-b185-efc1cadb4705",
   "metadata": {},
   "source": [
    "### Execute the Clustering\n",
    "Next, we'll call [the `cluster(...)` method](src/Cluster.jl) to refine our initial random cluster assignments and centroid values. The [`cluster(...)` method](src/Cluster.jl) takes a few arguments (and returns the clustering results):\n",
    "\n",
    "* __Data__: `D::Array{<:Number, 2}`: The first argument is the data matrix `D::Array{<:Number,2}` which we want to cluster. The data matrix has the feature vectors $\\mathbf{x}\\in\\mathbb{R}^{m}$ as columns. Its values can be any subtype [of Number](https://docs.julialang.org/en/v1/base/numbers/#Core.Number). \n",
    "* __Model__: `model::<: MyAbstractUnsupervisedClusteringAlgorithm`: The second argument is the cluster model instance, i.e.,  the `model::MyNaiveKMeansClusteringAlgorithm` instance that we built above. However, the model can be any subtype of ` MyAbstractUnsupervisedClusteringAlgorithm.`\n",
    "    * __Why an abstract generic type?__ Suppose we have different K-means implementations or different clustering logic altogether. In that case, we can take advantage of Julia's multiple dispatch functionality by passing in a different clustering model. This provides a single method for a user to call, which calls a different implementation.\n",
    "* __Verbose (optional)__: `verbose::Bool`: The `verbose::Bool` argument tells our implementation whether to save data from each algorithm iteration. The default value is `false`. However, if the value is set to `true,` a save file holding the assignments, centroids, and loop index is written at each iteration.\n",
    "* __Measure (optional)__:`d::Any`. The optional distance argument is the $d(p,q)$ function and can be used to change how the similarity between feature vectors $\\mathbf{x}\\in\\mathcal{D}$ is calculated. We can use [any metrics exported by the `Distances.jl` package](https://github.com/JuliaStats/Distances.jl); by default, we [use the Euclidian distance](https://en.wikipedia.org/wiki/Euclidean_distance). \n",
    "\n",
    "\n",
    "The [`cluster(...)` method](src/Cluster.jl) returns cluster centroids, the assignments, and the number of iterations that it took to reach the final assignment in the `result::NamedTuple.`\n",
    "* The `result` named tuple has the fields `{assignments|centroids|loopcount).` The `assignments` field is an array of integers that tells us which cluster each data point belongs to. The `centroids` field is a dictionary holding the centroids of the clusters. The `loopcount` field is an integer that tells us how many iterations the algorithm took to converge."
   ]
  },
  {
   "cell_type": "code",
   "execution_count": 25,
   "id": "7a4cf969-27cd-47e5-b006-fe9b34b31fa5",
   "metadata": {},
   "outputs": [],
   "source": [
    "result = nothing;  # TODO call the cluster method to cluster the data. Set the verbose flag to false"
   ]
  },
  {
   "cell_type": "markdown",
   "id": "59e71d64-e1f6-4583-ab3e-9464dbda8f19",
   "metadata": {},
   "source": [
    "#### Visualize clustering results\n",
    "`Unhide` the code block below to see how we plotted the cluster results. In addition, we've overlayed the data centers and the radius lines to see how the clustered data looks compared with the clustered data. \n",
    "* __Summary__: In the `distinct` case with two clusters, the [K-means clustering](https://en.wikipedia.org/wiki/K-means_clustering) will produce clusters corresponding to a single `faux` label, i.e., the cluster will have either all orange or all blue elements that are contained in the radius one circle. In the `overlapping` case, there is a boundary between clusters that may have data points in particular clusters.\n",
    "\n",
    "Note that because of the randomness of the initial assignment, sometimes cluster 2 (orange) will be on the left, and cluster 1 (blue) will be on the right, or vice-versa. Thus, the labels will be switched but still be distinct."
   ]
  },
  {
   "cell_type": "code",
   "execution_count": 27,
   "id": "3837778b-2bec-4cae-82a4-0da99f355a51",
   "metadata": {
    "jupyter": {
     "source_hidden": true
    }
   },
   "outputs": [
    {
     "ename": "LoadError",
     "evalue": "UndefVarError: `D` not defined in `Main`\nSuggestion: check for spelling errors or missing imports.",
     "output_type": "error",
     "traceback": [
      "UndefVarError: `D` not defined in `Main`\nSuggestion: check for spelling errors or missing imports.",
      "",
      "Stacktrace:",
      " [1] top-level scope",
      "   @ ./In[27]:3"
     ]
    }
   ],
   "source": [
    "let\n",
    "\n",
    "    dataset = D;\n",
    "    horizontal_index = 1;\n",
    "    vertical_index = 2;\n",
    "    p = plot(bg=\"gray95\", background_color_outside=\"white\", framestyle = :box, fg_legend = :transparent); # make an empty plot\n",
    "    \n",
    "    assignments = result.assignments;\n",
    "    for i ∈ eachindex(assignments);\n",
    "        a = assignments[i];        \n",
    "        scatter!([dataset[i, horizontal_index]], [dataset[i, vertical_index]], label=\"\", c=my_color_dictionary[a], msc=my_color_dictionary[a]);\n",
    "    end\n",
    "    current();\n",
    "\n",
    "    # plot the centroids -\n",
    "    centroids = result.centroids;\n",
    "    for k ∈ 1:K\n",
    "        c = centroids[k]\n",
    "        scatter!([c[horizontal_index]], [c[vertical_index]], label=\"Centroid cluster $(k)\", msc=my_color_dictionary[k], c=my_color_dictionary[k], \n",
    "            ms=10, markerstrokewidth=2, markershape = :plus)\n",
    "    end\n",
    "    current();\n",
    "\n",
    "    circle_one = fixedcircle(c̄₁);\n",
    "    circle_two = fixedcircle(c̄₂);\n",
    "    plot!(circle_one[:,1], circle_one[:,2], lw=2, c=:black, ls=:dash, label=\"\")\n",
    "    plot!(circle_two[:,1], circle_two[:,2], lw=2, c=:black, ls=:dash, label=\"\") \n",
    "    scatter!([c̄₁[1]], [c̄₁[2]], ms=6, mec=:black, c=:white, label=\"\")\n",
    "    scatter!([c̄₂[1]], [c̄₂[2]], ms=6, mec=:black, c=:white, label=\"\")\n",
    "\n",
    "    xlabel!(\"Feature 1 (AU)\", fontsize=18);\n",
    "    ylabel!(\"Feature 2 (AU)\", fontsize=18);\n",
    "    title!(\"Case = $(case_label)\", fontsize=18)\n",
    "end"
   ]
  },
  {
   "cell_type": "code",
   "execution_count": 28,
   "id": "08e05346-e591-4a41-ac72-c62c2d7fd536",
   "metadata": {},
   "outputs": [],
   "source": [
    "do_I_see_clustered_data_figure = false; # update this value if you see the figure with the clustered data {true | false}"
   ]
  },
  {
   "cell_type": "markdown",
   "id": "f6872919-615b-48ac-b2f8-faca55659b6b",
   "metadata": {},
   "source": [
    "## Task 3: Analyzing the quality of the clusters\n",
    "In this task, we'll explore the _quality_ of the clusters as a function of different parameters. The quality (correctness) of clusters can be computed [in various ways](https://juliastats.org/Clustering.jl/stable/validate.html). Here, we'll consider only two:\n",
    "* __Method 1__: [The silhouette score](https://en.wikipedia.org/wiki/Silhouette_(clustering)) is a measure of how similar an object is to its cluster (cohesion) \n",
    "compared to other clusters (separation). The silhouette score ranges from -1 to 1, where a high value indicates that the object is well-matched to its cluster and poorly matched to neighboring clusters. We'll use the the mean of [silhouette score](https://en.wikipedia.org/wiki/Silhouette_(clustering)) over all data to measure how appropriately the data have been clustered.\n",
    "* __Method 2__: Erroor rate. We have another piece of data the clustering algorithm didn't have: the `faux` label. Let's use this data to compute the fraction of incorrectly clustered points, i.e., what is the fraction of points that have `faux` label $l = \\star$ that get clustered into $c_{\\star}$. This is similar to another problem that we'll spend significant time on: the [binary classification problem](https://en.wikipedia.org/wiki/Binary_classification), where we use the feature vectors to predict a datapoint type, i.e., the label. This method has some limitations because of the randomness of [K-means clustering](https://en.wikipedia.org/wiki/K-means_clustering).\n",
    "\n",
    "After we implment these two assesment methods, you'll answer some discussion questions about what this assesment data is telling us."
   ]
  },
  {
   "cell_type": "markdown",
   "id": "4ef978c8-2a21-4f43-9a3e-42cbf2b58742",
   "metadata": {},
   "source": [
    "#### Method 1: Silhouette score\n",
    "Assume that we have clustered the data into $K$ clusters $\\mathcal{C} = \\{c_1, c_2, \\ldots, c_K\\}$.\n",
    "Then, for a data point $\\mathbf{x}_i\\in c_i$, let $a(i)$ denote the average distance between $\\mathbf{x}_i\\in{c}_{i}$ and all other points $\\mathbf{x}_{j}\\in{c_i}$ for $i\\neq{j}$ where:\n",
    "$$\n",
    "\\begin{equation}\n",
    "a(i) = \\frac{1}{|c_i| - 1}\\sum_{j\\in c_i, j\\neq i}d(i,j)\n",
    "\\end{equation}\n",
    "$$\n",
    "The term $|c_i|$ denotes the number of data points in cluster $c_i$, and $d(i,j)$ denotes the distance between data points $\\mathbf{x}_i\\in{c_{i}}$ and $\\mathbf{x}_j\\in{c_{i}}$.\n",
    "Thus, $a(i)$ measures the compactness (cohesion) of cluster $c_{i}$. Next, we define $b(i)$, to be the smallest mean distance of data point $\\mathbf{x}_{i}$ to all points in any other cluster in which point $i$ is not a member. The cluster with this smallest mean dissimilarity is said to be the _neighboring cluster_ of data point $i$ because it is the next best-fit cluster for data point $i$:\n",
    "$$\n",
    "\\begin{equation}\n",
    "b(i) = \\min_{j\\neq i}\\frac{1}{|c_j|}\\sum_{j\\in c_j}d(i,j)\n",
    "\\end{equation}\n",
    "$$\n",
    "Putting it all together, the silhouette score $s(i)$ for data point $\\mathbf{x}_i$ is defined as:\n",
    "$$\n",
    "\\begin{equation}\n",
    "s(i) = \\frac{b(i) - a(i)}{\\max\\{a(i), b(i)\\}}\\quad\\text{if}\\,|c_i|>1\n",
    "\\end{equation}\n",
    "$$\n",
    "If $|c_i|=1$, then $s(i)=0$. This gives a silhouette score for each data point as:\n",
    "$$\n",
    "\\begin{equation}\n",
    "   s(i) =\n",
    "   \\begin{cases}\n",
    "      1 - a(i)/b(i) & \\text{if } a(i) < b(i)\\\\ \n",
    "      0 & \\text{if } a(i) = b(i)\\\\\n",
    "      b(i)/a(i) - 1 & \\text{if } a(i) > b(i)\n",
    "   \\end{cases}\n",
    "\\end{equation}\n",
    "$$\n",
    "This definition shows $-1\\leq s(i)\\leq 1$. \n",
    "The mean $s(i)$ of all data points in a cluster measures how tightly grouped the points in the cluster are. \n",
    "We've implemented the computation of the silhouette score in [the `silhouette(...)` method](src/Cluster.jl). _Call the [the `silhouette(...)` method](src/Cluster.jl) to compute the silhouette score_:"
   ]
  },
  {
   "cell_type": "code",
   "execution_count": 31,
   "id": "28584426-7298-4bc7-bb81-e04d7f19dbaf",
   "metadata": {},
   "outputs": [
    {
     "ename": "LoadError",
     "evalue": "type Nothing has no field assignments",
     "output_type": "error",
     "traceback": [
      "type Nothing has no field assignments",
      "",
      "Stacktrace:",
      " [1] getproperty(x::Nothing, f::Symbol)",
      "   @ Base ./Base.jl:49",
      " [2] top-level scope",
      "   @ In[31]:5"
     ]
    }
   ],
   "source": [
    "s̄, silhouette_result_array  = let\n",
    "    \n",
    "    # silhouette function takes the data and assignment array\n",
    "    # returns an array with the first col a, second col is b, and third col is s\n",
    "    a = result.assignments; # get the assignments\n",
    "    silhouette_result_array = nothing; # TODO: call the silhouette function return -> first col a, second col is b, and third col is s\n",
    "    s̄ = mean(silhouette_result_array[:,3]); # compute the average silhouette score \n",
    "    \n",
    "    s̄,silhouette_result_array # return data to the caller\n",
    "end;"
   ]
  },
  {
   "cell_type": "code",
   "execution_count": 32,
   "id": "e0d4fa79-3be2-4cbf-a9db-2c1a8df3183d",
   "metadata": {},
   "outputs": [
    {
     "ename": "LoadError",
     "evalue": "UndefVarError: `s̄` not defined in `Main`\nSuggestion: check for spelling errors or missing imports.",
     "output_type": "error",
     "traceback": [
      "UndefVarError: `s̄` not defined in `Main`\nSuggestion: check for spelling errors or missing imports.",
      "",
      "Stacktrace:",
      " [1] top-level scope",
      "   @ In[32]:1"
     ]
    }
   ],
   "source": [
    "println(\"The overall mean silhouette score for distance = $(distance) is: $(s̄)\")"
   ]
  },
  {
   "cell_type": "markdown",
   "id": "2bb9fe5d-48f7-4f98-be83-3c93cded0d02",
   "metadata": {},
   "source": [
    "#### Method 2: Classification error rate\n",
    "This method quantifies how many times a point was placed in the correct cluster.\n",
    "Consider the binary case, i.e., $K = 2$, and only when the blue points are the leftmost cluster. If you meet this criteria, update the `do_I_meet_the_alternative_assessment_conditions::Bool` flag to `true`:"
   ]
  },
  {
   "cell_type": "code",
   "execution_count": 77,
   "id": "aabb1ef6-c2e3-48ea-94aa-db16c7cb1cad",
   "metadata": {},
   "outputs": [],
   "source": [
    "do_I_meet_the_alternative_assessment_conditions = false; # change to true if K = 2 and blue is on the left"
   ]
  },
  {
   "cell_type": "markdown",
   "id": "061fb573-213e-4775-b70a-46abd410452f",
   "metadata": {},
   "source": [
    "If the `do_I_meet_the_alternative_assessment_conditions = true,` the code block below computes the fraction of points that are _misclassified_, i.e., a point has `faux` label $l=1$ but is put in cluster `2`, and vice versa. However, if `do_I_meet_the_alternative_assessment_conditions = false,` a [@info statement is generated](https://docs.julialang.org/en/v1/stdlib/Logging/#Logging.@logmsg). If the logic runs, the `error_fraction::Float64` is returned."
   ]
  },
  {
   "cell_type": "code",
   "execution_count": 36,
   "id": "270f67a3-6db1-40e8-ac93-b0ead935aecf",
   "metadata": {},
   "outputs": [
    {
     "ename": "LoadError",
     "evalue": "type Nothing has no field assignments",
     "output_type": "error",
     "traceback": [
      "type Nothing has no field assignments",
      "",
      "Stacktrace:",
      " [1] getproperty(x::Nothing, f::Symbol)",
      "   @ Base ./Base.jl:49",
      " [2] top-level scope",
      "   @ ./In[36]:7"
     ]
    }
   ],
   "source": [
    "error_fraction = let\n",
    "\n",
    "    error_fraction = nothing;\n",
    "    if (do_I_meet_the_alternative_assessment_conditions == true)\n",
    "\n",
    "        errors = 0;\n",
    "        a = result.assignments;\n",
    "        for i ∈ 1:total_number_of_points\n",
    "            errors += (a[i] == D̂[i,3]) ? 0.0 : 1.0;\n",
    "        end\n",
    "        error_fraction = (errors)/total_number_of_points;    \n",
    "    else\n",
    "        @info \"Alternative assessment method 2 not applicable\"\n",
    "    end\n",
    "    error_fraction\n",
    "end;"
   ]
  },
  {
   "cell_type": "code",
   "execution_count": 37,
   "id": "a9dfb091-6dc1-43b2-b472-95cf2c979147",
   "metadata": {},
   "outputs": [
    {
     "ename": "LoadError",
     "evalue": "UndefVarError: `error_fraction` not defined in `Main`\nSuggestion: check for spelling errors or missing imports.",
     "output_type": "error",
     "traceback": [
      "UndefVarError: `error_fraction` not defined in `Main`\nSuggestion: check for spelling errors or missing imports.",
      ""
     ]
    }
   ],
   "source": [
    "error_fraction"
   ]
  },
  {
   "cell_type": "markdown",
   "id": "5e80cb81-063c-45c7-a33e-a54ce2e7b99b",
   "metadata": {},
   "source": [
    "### Discussion questions (DQs)\n",
    "Run the notebook for $\\bar{c}_{2} = (10.0,1.0)$ (`distinct` case) and $\\bar{c}_{2} = (2.0,1.0)$ (`overlapping` case), and answer the following questions.\n",
    "\n",
    "* __DQ1__:Are the silhouette scores directly or indirectly proportional to the distance between the data cloud clusters? Why might you expect this relationship based on the definition, and what do you expect as the distance between cluster centers grows?"
   ]
  },
  {
   "cell_type": "code",
   "execution_count": 39,
   "id": "4dba0723-45c1-47cc-bf2c-bbd71f781a5d",
   "metadata": {},
   "outputs": [],
   "source": [
    "# Put your answer to DQ1 (either as a commented code cell, or as a markdown cell)"
   ]
  },
  {
   "cell_type": "code",
   "execution_count": 40,
   "id": "47fe192e-0f3c-4c7a-8505-aecfc23b133c",
   "metadata": {},
   "outputs": [],
   "source": [
    "did_I_answer_DQ1 = true; # update to true if answered DQ1 {true | false}"
   ]
  },
  {
   "cell_type": "markdown",
   "id": "e96cb998-dfcc-4dda-9cca-76d98f091d09",
   "metadata": {},
   "source": [
    "* __DQ2__: In situations where _Method 2_ is applicable, does this alternative assessment criteria support what the silhouette scores are saying? Could you explain why _Method 2_ supports or refutes the silhouette scores? As the cluster centers become close, what error rate do you expect?"
   ]
  },
  {
   "cell_type": "code",
   "execution_count": 42,
   "id": "2b779bae-aeea-47bc-8c34-9aed83f264b4",
   "metadata": {},
   "outputs": [],
   "source": [
    "# Put your answer for DQ2 here (either as a commented code cell, or as a markdown cell)"
   ]
  },
  {
   "cell_type": "code",
   "execution_count": 43,
   "id": "6e80431f-eb85-4084-bf7a-8371eefc85d1",
   "metadata": {},
   "outputs": [],
   "source": [
    "did_I_answer_DQ2 = true; # update to true if answered DQ2 {true | false}"
   ]
  },
  {
   "cell_type": "markdown",
   "id": "b7cdb244-1495-4897-b835-1a1f3bd363b0",
   "metadata": {},
   "source": [
    "* __DQ3__: For the `overlapping` case, what explain what happens when you increase the number of clusters to $K = 3$?"
   ]
  },
  {
   "cell_type": "code",
   "execution_count": 45,
   "id": "83269fb8-0bf8-46f0-96e2-860de5998b47",
   "metadata": {},
   "outputs": [],
   "source": [
    "# Put your answer to DQ3 here (either as a commented code cell, or as a markdown cell)"
   ]
  },
  {
   "cell_type": "code",
   "execution_count": 46,
   "id": "d33ad868-44c0-4cc2-ae32-d2279c96a516",
   "metadata": {},
   "outputs": [],
   "source": [
    "did_I_answer_DQ3 = true; # update to true if answered DQ3 {true | false}"
   ]
  },
  {
   "cell_type": "markdown",
   "id": "ab31ded8-6e25-4191-bd30-a8145f19732b",
   "metadata": {},
   "source": [
    "## Tests\n",
    "In the code block below, we check some values in your notebook and give you feedback on which items are correct or different. `Unhide` the code block below (if you are curious) about how we implemented the tests and what we are testing."
   ]
  },
  {
   "cell_type": "code",
   "execution_count": 48,
   "id": "ff4f667b-98d2-4e8c-a5ae-d3993f233432",
   "metadata": {
    "jupyter": {
     "source_hidden": true
    }
   },
   "outputs": [
    {
     "name": "stdout",
     "output_type": "stream",
     "text": [
      "Task 1: Generation of a synthetic dataset: \u001b[91m\u001b[1mError During Test\u001b[22m\u001b[39m at \u001b[39m\u001b[1mIn[48]:11\u001b[22m\n",
      "  Got exception outside of a @test\n",
      "  UndefVarError: `D̂` not defined in `Main`\n",
      "  Suggestion: check for spelling errors or missing imports.\n",
      "  Stacktrace:\n",
      "    [1] \u001b[0m\u001b[1mmacro expansion\u001b[22m\n",
      "  \u001b[90m    @\u001b[39m \u001b[90m\u001b[4mIn[48]:12\u001b[24m\u001b[39m\u001b[90m [inlined]\u001b[39m\n",
      "    [2] \u001b[0m\u001b[1mmacro expansion\u001b[22m\n",
      "  \u001b[90m    @\u001b[39m \u001b[90m~/.julia/juliaup/julia-1.11.2+0.aarch64.apple.darwin14/share/julia/stdlib/v1.11/Test/src/\u001b[39m\u001b[90m\u001b[4mTest.jl:1704\u001b[24m\u001b[39m\u001b[90m [inlined]\u001b[39m\n",
      "    [3] \u001b[0m\u001b[1mmacro expansion\u001b[22m\n",
      "  \u001b[90m    @\u001b[39m \u001b[90m\u001b[4mIn[48]:12\u001b[24m\u001b[39m\u001b[90m [inlined]\u001b[39m\n",
      "    [4] \u001b[0m\u001b[1mmacro expansion\u001b[22m\n",
      "  \u001b[90m    @\u001b[39m \u001b[90m~/.julia/juliaup/julia-1.11.2+0.aarch64.apple.darwin14/share/julia/stdlib/v1.11/Test/src/\u001b[39m\u001b[90m\u001b[4mTest.jl:1704\u001b[24m\u001b[39m\u001b[90m [inlined]\u001b[39m\n",
      "    [5] top-level scope\n",
      "  \u001b[90m    @\u001b[39m \u001b[90m\u001b[4mIn[48]:4\u001b[24m\u001b[39m\n",
      "    [6] \u001b[0m\u001b[1meval\u001b[22m\n",
      "  \u001b[90m    @\u001b[39m \u001b[90m./\u001b[39m\u001b[90m\u001b[4mboot.jl:430\u001b[24m\u001b[39m\u001b[90m [inlined]\u001b[39m\n",
      "    [7] \u001b[0m\u001b[1minclude_string\u001b[22m\u001b[0m\u001b[1m(\u001b[22m\u001b[90mmapexpr\u001b[39m::\u001b[0mtypeof(REPL.softscope), \u001b[90mmod\u001b[39m::\u001b[0mModule, \u001b[90mcode\u001b[39m::\u001b[0mString, \u001b[90mfilename\u001b[39m::\u001b[0mString\u001b[0m\u001b[1m)\u001b[22m\n",
      "  \u001b[90m    @\u001b[39m \u001b[90mBase\u001b[39m \u001b[90m./\u001b[39m\u001b[90m\u001b[4mloading.jl:2734\u001b[24m\u001b[39m\n",
      "    [8] \u001b[0m\u001b[1msoftscope_include_string\u001b[22m\u001b[0m\u001b[1m(\u001b[22m\u001b[90mm\u001b[39m::\u001b[0mModule, \u001b[90mcode\u001b[39m::\u001b[0mString, \u001b[90mfilename\u001b[39m::\u001b[0mString\u001b[0m\u001b[1m)\u001b[22m\n",
      "  \u001b[90m    @\u001b[39m \u001b[35mSoftGlobalScope\u001b[39m \u001b[90m~/.julia/packages/SoftGlobalScope/u4UzH/src/\u001b[39m\u001b[90m\u001b[4mSoftGlobalScope.jl:65\u001b[24m\u001b[39m\n",
      "    [9] \u001b[0m\u001b[1mexecute_request\u001b[22m\u001b[0m\u001b[1m(\u001b[22m\u001b[90msocket\u001b[39m::\u001b[0mZMQ.Socket, \u001b[90mmsg\u001b[39m::\u001b[0mIJulia.Msg\u001b[0m\u001b[1m)\u001b[22m\n",
      "  \u001b[90m    @\u001b[39m \u001b[36mIJulia\u001b[39m \u001b[90m~/.julia/packages/IJulia/dR0lE/src/\u001b[39m\u001b[90m\u001b[4mexecute_request.jl:74\u001b[24m\u001b[39m\n",
      "   [10] \u001b[0m\u001b[1m#invokelatest#2\u001b[22m\n",
      "  \u001b[90m    @\u001b[39m \u001b[90m./\u001b[39m\u001b[90m\u001b[4messentials.jl:1055\u001b[24m\u001b[39m\u001b[90m [inlined]\u001b[39m\n",
      "   [11] \u001b[0m\u001b[1minvokelatest\u001b[22m\n",
      "  \u001b[90m    @\u001b[39m \u001b[90m./\u001b[39m\u001b[90m\u001b[4messentials.jl:1052\u001b[24m\u001b[39m\u001b[90m [inlined]\u001b[39m\n",
      "   [12] \u001b[0m\u001b[1meventloop\u001b[22m\u001b[0m\u001b[1m(\u001b[22m\u001b[90msocket\u001b[39m::\u001b[0mZMQ.Socket\u001b[0m\u001b[1m)\u001b[22m\n",
      "  \u001b[90m    @\u001b[39m \u001b[36mIJulia\u001b[39m \u001b[90m~/.julia/packages/IJulia/dR0lE/src/\u001b[39m\u001b[90m\u001b[4meventloop.jl:8\u001b[24m\u001b[39m\n",
      "   [13] \u001b[0m\u001b[1m(::IJulia.var\"#15#18\")\u001b[22m\u001b[0m\u001b[1m(\u001b[22m\u001b[0m\u001b[1m)\u001b[22m\n",
      "  \u001b[90m    @\u001b[39m \u001b[36mIJulia\u001b[39m \u001b[90m~/.julia/packages/IJulia/dR0lE/src/\u001b[39m\u001b[90m\u001b[4meventloop.jl:38\u001b[24m\u001b[39m\n",
      "Task 2: Cluster the data: \u001b[91m\u001b[1mError During Test\u001b[22m\u001b[39m at \u001b[39m\u001b[1mIn[48]:20\u001b[22m\n",
      "  Test threw exception\n",
      "  Expression: isnothing(D) == false\n",
      "  UndefVarError: `D` not defined in `Main`\n",
      "  Suggestion: check for spelling errors or missing imports.\n",
      "  Stacktrace:\n",
      "   [1] \u001b[0m\u001b[1mmacro expansion\u001b[22m\n",
      "  \u001b[90m   @\u001b[39m \u001b[90m~/.julia/juliaup/julia-1.11.2+0.aarch64.apple.darwin14/share/julia/stdlib/v1.11/Test/src/\u001b[39m\u001b[90m\u001b[4mTest.jl:676\u001b[24m\u001b[39m\u001b[90m [inlined]\u001b[39m\n",
      "   [2] \u001b[0m\u001b[1mmacro expansion\u001b[22m\n",
      "  \u001b[90m   @\u001b[39m \u001b[90m\u001b[4mIn[48]:20\u001b[24m\u001b[39m\u001b[90m [inlined]\u001b[39m\n",
      "   [3] \u001b[0m\u001b[1mmacro expansion\u001b[22m\n",
      "  \u001b[90m   @\u001b[39m \u001b[90m~/.julia/juliaup/julia-1.11.2+0.aarch64.apple.darwin14/share/julia/stdlib/v1.11/Test/src/\u001b[39m\u001b[90m\u001b[4mTest.jl:1704\u001b[24m\u001b[39m\u001b[90m [inlined]\u001b[39m\n",
      "   [4] \u001b[0m\u001b[1mmacro expansion\u001b[22m\n",
      "  \u001b[90m   @\u001b[39m \u001b[90m\u001b[4mIn[48]:20\u001b[24m\u001b[39m\u001b[90m [inlined]\u001b[39m\n",
      "   [5] \u001b[0m\u001b[1mmacro expansion\u001b[22m\n",
      "  \u001b[90m   @\u001b[39m \u001b[90m~/.julia/juliaup/julia-1.11.2+0.aarch64.apple.darwin14/share/julia/stdlib/v1.11/Test/src/\u001b[39m\u001b[90m\u001b[4mTest.jl:1704\u001b[24m\u001b[39m\u001b[90m [inlined]\u001b[39m\n",
      "   [6] top-level scope\n",
      "  \u001b[90m   @\u001b[39m \u001b[90m\u001b[4mIn[48]:4\u001b[24m\u001b[39m\n",
      "Task 2: Cluster the data: \u001b[91m\u001b[1mTest Failed\u001b[22m\u001b[39m at \u001b[39m\u001b[1mIn[48]:21\u001b[22m\n",
      "  Expression: isnothing(model) == false\n",
      "   Evaluated: true == false\n",
      "\n",
      "Stacktrace:\n",
      " [1] \u001b[0m\u001b[1mmacro expansion\u001b[22m\n",
      "\u001b[90m   @\u001b[39m \u001b[90m~/.julia/juliaup/julia-1.11.2+0.aarch64.apple.darwin14/share/julia/stdlib/v1.11/Test/src/\u001b[39m\u001b[90m\u001b[4mTest.jl:679\u001b[24m\u001b[39m\u001b[90m [inlined]\u001b[39m\n",
      " [2] \u001b[0m\u001b[1mmacro expansion\u001b[22m\n",
      "\u001b[90m   @\u001b[39m \u001b[90m\u001b[4mIn[48]:21\u001b[24m\u001b[39m\u001b[90m [inlined]\u001b[39m\n",
      " [3] \u001b[0m\u001b[1mmacro expansion\u001b[22m\n",
      "\u001b[90m   @\u001b[39m \u001b[90m~/.julia/juliaup/julia-1.11.2+0.aarch64.apple.darwin14/share/julia/stdlib/v1.11/Test/src/\u001b[39m\u001b[90m\u001b[4mTest.jl:1704\u001b[24m\u001b[39m\u001b[90m [inlined]\u001b[39m\n",
      " [4] \u001b[0m\u001b[1mmacro expansion\u001b[22m\n",
      "\u001b[90m   @\u001b[39m \u001b[90m\u001b[4mIn[48]:20\u001b[24m\u001b[39m\u001b[90m [inlined]\u001b[39m\n",
      " [5] \u001b[0m\u001b[1mmacro expansion\u001b[22m\n",
      "\u001b[90m   @\u001b[39m \u001b[90m~/.julia/juliaup/julia-1.11.2+0.aarch64.apple.darwin14/share/julia/stdlib/v1.11/Test/src/\u001b[39m\u001b[90m\u001b[4mTest.jl:1704\u001b[24m\u001b[39m\u001b[90m [inlined]\u001b[39m\n",
      " [6] top-level scope\n",
      "\u001b[90m   @\u001b[39m \u001b[90m\u001b[4mIn[48]:4\u001b[24m\u001b[39m\n",
      "Task 2: Cluster the data: \u001b[91m\u001b[1mTest Failed\u001b[22m\u001b[39m at \u001b[39m\u001b[1mIn[48]:22\u001b[22m\n",
      "  Expression: isnothing(result) == false\n",
      "   Evaluated: true == false\n",
      "\n",
      "Stacktrace:\n",
      " [1] \u001b[0m\u001b[1mmacro expansion\u001b[22m\n",
      "\u001b[90m   @\u001b[39m \u001b[90m~/.julia/juliaup/julia-1.11.2+0.aarch64.apple.darwin14/share/julia/stdlib/v1.11/Test/src/\u001b[39m\u001b[90m\u001b[4mTest.jl:679\u001b[24m\u001b[39m\u001b[90m [inlined]\u001b[39m\n",
      " [2] \u001b[0m\u001b[1mmacro expansion\u001b[22m\n",
      "\u001b[90m   @\u001b[39m \u001b[90m\u001b[4mIn[48]:22\u001b[24m\u001b[39m\u001b[90m [inlined]\u001b[39m\n",
      " [3] \u001b[0m\u001b[1mmacro expansion\u001b[22m\n",
      "\u001b[90m   @\u001b[39m \u001b[90m~/.julia/juliaup/julia-1.11.2+0.aarch64.apple.darwin14/share/julia/stdlib/v1.11/Test/src/\u001b[39m\u001b[90m\u001b[4mTest.jl:1704\u001b[24m\u001b[39m\u001b[90m [inlined]\u001b[39m\n",
      " [4] \u001b[0m\u001b[1mmacro expansion\u001b[22m\n",
      "\u001b[90m   @\u001b[39m \u001b[90m\u001b[4mIn[48]:20\u001b[24m\u001b[39m\u001b[90m [inlined]\u001b[39m\n",
      " [5] \u001b[0m\u001b[1mmacro expansion\u001b[22m\n",
      "\u001b[90m   @\u001b[39m \u001b[90m~/.julia/juliaup/julia-1.11.2+0.aarch64.apple.darwin14/share/julia/stdlib/v1.11/Test/src/\u001b[39m\u001b[90m\u001b[4mTest.jl:1704\u001b[24m\u001b[39m\u001b[90m [inlined]\u001b[39m\n",
      " [6] top-level scope\n",
      "\u001b[90m   @\u001b[39m \u001b[90m\u001b[4mIn[48]:4\u001b[24m\u001b[39m\n",
      "Task 3: Analyzing the quality of the clusters: \u001b[91m\u001b[1mError During Test\u001b[22m\u001b[39m at \u001b[39m\u001b[1mIn[48]:26\u001b[22m\n",
      "  Test threw exception\n",
      "  Expression: (s̄ isa Number) == true\n",
      "  UndefVarError: `s̄` not defined in `Main`\n",
      "  Suggestion: check for spelling errors or missing imports.\n",
      "  Stacktrace:\n",
      "   [1] \u001b[0m\u001b[1mmacro expansion\u001b[22m\n",
      "  \u001b[90m   @\u001b[39m \u001b[90m~/.julia/juliaup/julia-1.11.2+0.aarch64.apple.darwin14/share/julia/stdlib/v1.11/Test/src/\u001b[39m\u001b[90m\u001b[4mTest.jl:676\u001b[24m\u001b[39m\u001b[90m [inlined]\u001b[39m\n",
      "   [2] \u001b[0m\u001b[1mmacro expansion\u001b[22m\n",
      "  \u001b[90m   @\u001b[39m \u001b[90m\u001b[4mIn[48]:26\u001b[24m\u001b[39m\u001b[90m [inlined]\u001b[39m\n",
      "   [3] \u001b[0m\u001b[1mmacro expansion\u001b[22m\n",
      "  \u001b[90m   @\u001b[39m \u001b[90m~/.julia/juliaup/julia-1.11.2+0.aarch64.apple.darwin14/share/julia/stdlib/v1.11/Test/src/\u001b[39m\u001b[90m\u001b[4mTest.jl:1704\u001b[24m\u001b[39m\u001b[90m [inlined]\u001b[39m\n",
      "   [4] \u001b[0m\u001b[1mmacro expansion\u001b[22m\n",
      "  \u001b[90m   @\u001b[39m \u001b[90m\u001b[4mIn[48]:26\u001b[24m\u001b[39m\u001b[90m [inlined]\u001b[39m\n",
      "   [5] \u001b[0m\u001b[1mmacro expansion\u001b[22m\n",
      "  \u001b[90m   @\u001b[39m \u001b[90m~/.julia/juliaup/julia-1.11.2+0.aarch64.apple.darwin14/share/julia/stdlib/v1.11/Test/src/\u001b[39m\u001b[90m\u001b[4mTest.jl:1704\u001b[24m\u001b[39m\u001b[90m [inlined]\u001b[39m\n",
      "   [6] top-level scope\n",
      "  \u001b[90m   @\u001b[39m \u001b[90m\u001b[4mIn[48]:4\u001b[24m\u001b[39m\n",
      "Task 3: Analyzing the quality of the clusters: \u001b[91m\u001b[1mError During Test\u001b[22m\u001b[39m at \u001b[39m\u001b[1mIn[48]:27\u001b[22m\n",
      "  Test threw exception\n",
      "  Expression: length(s) == total_number_of_points\n",
      "  UndefVarError: `s` not defined in `Main`\n",
      "  Suggestion: check for spelling errors or missing imports.\n",
      "  Stacktrace:\n",
      "   [1] \u001b[0m\u001b[1mmacro expansion\u001b[22m\n",
      "  \u001b[90m   @\u001b[39m \u001b[90m~/.julia/juliaup/julia-1.11.2+0.aarch64.apple.darwin14/share/julia/stdlib/v1.11/Test/src/\u001b[39m\u001b[90m\u001b[4mTest.jl:676\u001b[24m\u001b[39m\u001b[90m [inlined]\u001b[39m\n",
      "   [2] \u001b[0m\u001b[1mmacro expansion\u001b[22m\n",
      "  \u001b[90m   @\u001b[39m \u001b[90m\u001b[4mIn[48]:27\u001b[24m\u001b[39m\u001b[90m [inlined]\u001b[39m\n",
      "   [3] \u001b[0m\u001b[1mmacro expansion\u001b[22m\n",
      "  \u001b[90m   @\u001b[39m \u001b[90m~/.julia/juliaup/julia-1.11.2+0.aarch64.apple.darwin14/share/julia/stdlib/v1.11/Test/src/\u001b[39m\u001b[90m\u001b[4mTest.jl:1704\u001b[24m\u001b[39m\u001b[90m [inlined]\u001b[39m\n",
      "   [4] \u001b[0m\u001b[1mmacro expansion\u001b[22m\n",
      "  \u001b[90m   @\u001b[39m \u001b[90m\u001b[4mIn[48]:26\u001b[24m\u001b[39m\u001b[90m [inlined]\u001b[39m\n",
      "   [5] \u001b[0m\u001b[1mmacro expansion\u001b[22m\n",
      "  \u001b[90m   @\u001b[39m \u001b[90m~/.julia/juliaup/julia-1.11.2+0.aarch64.apple.darwin14/share/julia/stdlib/v1.11/Test/src/\u001b[39m\u001b[90m\u001b[4mTest.jl:1704\u001b[24m\u001b[39m\u001b[90m [inlined]\u001b[39m\n",
      "   [6] top-level scope\n",
      "  \u001b[90m   @\u001b[39m \u001b[90m\u001b[4mIn[48]:4\u001b[24m\u001b[39m\n",
      "\u001b[0m\u001b[1mTest Summary:                                   | \u001b[22m\u001b[32m\u001b[1mPass  \u001b[22m\u001b[39m\u001b[91m\u001b[1mFail  \u001b[22m\u001b[39m\u001b[91m\u001b[1mError  \u001b[22m\u001b[39m\u001b[36m\u001b[1mTotal  \u001b[22m\u001b[39m\u001b[0m\u001b[1mTime\u001b[22m\n",
      "CHEME 5820 problem set 1 test suite             | \u001b[32m   7  \u001b[39m\u001b[91m   2  \u001b[39m\u001b[91m    4  \u001b[39m\u001b[36m   13  \u001b[39m\u001b[0m1.3s\n",
      "  Setup, Prerequisites and Data                 | \u001b[32m   4  \u001b[39m\u001b[91m      \u001b[39m\u001b[91m       \u001b[39m\u001b[36m    4  \u001b[39m\u001b[0m0.2s\n",
      "  Task 1: Generation of a synthetic dataset     | \u001b[32m      \u001b[39m\u001b[91m      \u001b[39m\u001b[91m    1  \u001b[39m\u001b[36m    1  \u001b[39m\u001b[0m0.2s\n",
      "  Task 2: Cluster the data                      | \u001b[32m      \u001b[39m\u001b[91m   2  \u001b[39m\u001b[91m    1  \u001b[39m\u001b[36m    3  \u001b[39m\u001b[0m0.8s\n",
      "  Task 3: Analyzing the quality of the clusters | \u001b[32m   3  \u001b[39m\u001b[91m      \u001b[39m\u001b[91m    2  \u001b[39m\u001b[36m    5  \u001b[39m\u001b[0m0.0s\n"
     ]
    },
    {
     "ename": "LoadError",
     "evalue": "\u001b[91mSome tests did not pass: 7 passed, 2 failed, 4 errored, 0 broken.\u001b[39m",
     "output_type": "error",
     "traceback": [
      "\u001b[91mSome tests did not pass: 7 passed, 2 failed, 4 errored, 0 broken.\u001b[39m",
      "",
      "Stacktrace:",
      " [1] finish(ts::Test.DefaultTestSet; print_results::Bool)",
      "   @ Test ~/.julia/juliaup/julia-1.11.2+0.aarch64.apple.darwin14/share/julia/stdlib/v1.11/Test/src/Test.jl:1258",
      " [2] finish(ts::Test.DefaultTestSet)",
      "   @ Test ~/.julia/juliaup/julia-1.11.2+0.aarch64.apple.darwin14/share/julia/stdlib/v1.11/Test/src/Test.jl:1233",
      " [3] macro expansion",
      "   @ ~/.julia/juliaup/julia-1.11.2+0.aarch64.apple.darwin14/share/julia/stdlib/v1.11/Test/src/Test.jl:1720 [inlined]",
      " [4] top-level scope",
      "   @ In[48]:4"
     ]
    }
   ],
   "source": [
    "let \n",
    "    @testset verbose = true \"CHEME 5820 problem set 1 test suite\" begin\n",
    "        \n",
    "        @testset \"Setup, Prerequisites and Data\" begin\n",
    "            @test _DID_INCLUDE_FILE_GET_CALLED == true\n",
    "            @test number_label_one ≥ 2\n",
    "            @test number_label_two ≥ 2\n",
    "            @test K ≥ 2\n",
    "        end\n",
    "\n",
    "        @testset \"Task 1: Generation of a synthetic dataset\" begin\n",
    "            number_of_rows = size(D̂,1);\n",
    "            number_of_cols = size(D̂,2);\n",
    "            @test total_number_of_points == number_of_rows\n",
    "            @test number_of_cols == 3\n",
    "            @test do_I_see_raw_data_cloud_figure == true\n",
    "        end\n",
    "\n",
    "        @testset \"Task 2: Cluster the data\" begin\n",
    "            @test isnothing(D) == false\n",
    "            @test isnothing(model) == false\n",
    "            @test isnothing(result) == false\n",
    "        end\n",
    "\n",
    "        @testset \"Task 3: Analyzing the quality of the clusters\" begin\n",
    "            @test isa(s̄, Number) == true\n",
    "            @test length(s) == total_number_of_points\n",
    "            @test did_I_answer_DQ1 == true\n",
    "            @test did_I_answer_DQ2 == true\n",
    "            @test did_I_answer_DQ3 == true\n",
    "        end\n",
    "    end\n",
    "end;"
   ]
  }
 ],
 "metadata": {
  "kernelspec": {
   "display_name": "Julia 1.11.2",
   "language": "julia",
   "name": "julia-1.11"
  },
  "language_info": {
   "file_extension": ".jl",
   "mimetype": "application/julia",
   "name": "julia",
   "version": "1.11.2"
  }
 },
 "nbformat": 4,
 "nbformat_minor": 5
}
