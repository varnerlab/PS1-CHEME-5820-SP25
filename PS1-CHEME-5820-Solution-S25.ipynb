{
 "cells": [
  {
   "cell_type": "markdown",
   "id": "a5451999-c880-4c5c-909c-1f763676eee7",
   "metadata": {},
   "source": [
    "# Problem Set 1 (PS1): Pathological K-means example\n",
    "The lecture introduced the [K-means clustering technique](https://en.wikipedia.org/wiki/K-means_clustering) as part of our unsupervised learning discussion. The [K-means approach](https://en.wikipedia.org/wiki/K-means_clustering) is straightforward and, in some ways, intuitive, but it has several limitations, such as the necessity to specify the number of clusters in advance. Additionally, there are more significant concerns, such as the inability to cluster overlapping datasets (or non-convex datasets). \n",
    "\n",
    "### Problem\n",
    "There was the following pathological example given [in the MAT 180 Big Data course at UC Davis](https://www.math.ucdavis.edu/~strohmer/courses/180BigData/180coursematerial.html) that was not explored in detail:\n",
    "* __Example__: Consider two circles, each of radius 1, and their centers are a distance $d$ apart.\n",
    "As long as $d > 2.08$, K-means yields the correct answer. But if $d\\leq{2.08}$, K-means fails.\n",
    "This is the failure of K-means and not of Lloyd's algorithm.\n",
    "\n",
    "This is what we'll explore in PS1."
   ]
  },
  {
   "cell_type": "markdown",
   "id": "d2763ee4-d505-4b77-8065-311f00b14b85",
   "metadata": {},
   "source": [
    "## Setup, Prerequisites and Data\n",
    "We set up the computational environment by including the `Include.jl` file and then load any needed resources, e.g., a sample dataset, to cluster, and we end by setting up any required constants. The `Include.jl` file loads external packages, various functions that we will use in the exercise, and custom types to model the components of our problem."
   ]
  },
  {
   "cell_type": "code",
   "execution_count": 21,
   "id": "e2430897-9ae3-42f5-b795-e9bed7c9b9e8",
   "metadata": {},
   "outputs": [
    {
     "name": "stderr",
     "output_type": "stream",
     "text": [
      "\u001b[36m\u001b[1m[ \u001b[22m\u001b[39m\u001b[36m\u001b[1mInfo: \u001b[22m\u001b[39mPrecompiling IJuliaExt [2f4121a4-3b3a-5ce6-9c5e-1f2673ce168a] (cache misses: wrong dep version loaded (20))\n"
     ]
    },
    {
     "data": {
      "text/plain": [
       "generatedata (generic function with 1 method)"
      ]
     },
     "execution_count": 21,
     "metadata": {},
     "output_type": "execute_result"
    }
   ],
   "source": [
    "include(\"Include.jl\");"
   ]
  },
  {
   "cell_type": "markdown",
   "id": "3edf69b1-8e4b-4339-b3b9-12181d7224e7",
   "metadata": {},
   "source": [
    "### Data\n",
    "Fill me in"
   ]
  },
  {
   "cell_type": "code",
   "execution_count": null,
   "id": "b3eb7dbd-29f0-4835-85f7-0c14e6b01e96",
   "metadata": {},
   "outputs": [],
   "source": []
  }
 ],
 "metadata": {
  "kernelspec": {
   "display_name": "Julia 1.11.2",
   "language": "julia",
   "name": "julia-1.11"
  },
  "language_info": {
   "file_extension": ".jl",
   "mimetype": "application/julia",
   "name": "julia",
   "version": "1.11.2"
  }
 },
 "nbformat": 4,
 "nbformat_minor": 5
}
